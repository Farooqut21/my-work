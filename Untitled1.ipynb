{
 "cells": [
  {
   "cell_type": "code",
   "execution_count": 1,
   "metadata": {},
   "outputs": [
    {
     "name": "stdout",
     "output_type": "stream",
     "text": [
      "Hello world\n",
      "My name is muhammad Farooq\n",
      "I am studying in UIT\n"
     ]
    }
   ],
   "source": [
    "#python for biggners\n",
    "#muhammad Farooq\n",
    "print(\"Hello world\")\n",
    "print(\"My name is muhammad Farooq\")\n",
    "print(\"I am studying in UIT\")"
   ]
  },
  {
   "cell_type": "code",
   "execution_count": 7,
   "metadata": {},
   "outputs": [
    {
     "name": "stdout",
     "output_type": "stream",
     "text": [
      "There was once a guy name Muhammad Farooq\n",
      "and his age is 19\n",
      "He really like  farooq\n"
     ]
    }
   ],
   "source": [
    "character=\"Muhammad Farooq\"\n",
    "age=\"19\"\n",
    "print(\"There was once a guy name\"+\" \"+character)\n",
    "print(\"and his age is\"+\" \"+age)\n",
    "character=\"farooq\"\n",
    "print(\"He really like \"+\" \"+character)"
   ]
  },
  {
   "cell_type": "code",
   "execution_count": 8,
   "metadata": {},
   "outputs": [
    {
     "name": "stdout",
     "output_type": "stream",
     "text": [
      "Hello \n",
      " World\n"
     ]
    }
   ],
   "source": [
    "print(\"Hello \\n World\")\n"
   ]
  },
  {
   "cell_type": "code",
   "execution_count": 9,
   "metadata": {},
   "outputs": [
    {
     "name": "stdout",
     "output_type": "stream",
     "text": [
      "Hello \t World\n"
     ]
    }
   ],
   "source": [
    "print(\"Hello \\t World\")"
   ]
  },
  {
   "cell_type": "code",
   "execution_count": 18,
   "metadata": {},
   "outputs": [
    {
     "name": "stdout",
     "output_type": "stream",
     "text": [
      "USMAN INSTITUE TECHNOLOGY\n",
      "usman institue technology\n",
      "s\n",
      "15\n",
      "Farooq Institue Technology\n"
     ]
    }
   ],
   "source": [
    "uit=\"Usman Institue Technology\"\n",
    "print(uit.upper())\n",
    "print(uit.lower())\n",
    "print(uit[1])\n",
    "print(uit.index(\"Tech\"))\n",
    "print(uit.replace(\"Usman\",\"Farooq\"))"
   ]
  },
  {
   "cell_type": "code",
   "execution_count": 22,
   "metadata": {},
   "outputs": [
    {
     "name": "stdout",
     "output_type": "stream",
     "text": [
      "2\n",
      "2.0\n",
      "5\n",
      "11\n",
      "15\n",
      "1\n",
      "3.3333333333333335\n",
      "3\n"
     ]
    }
   ],
   "source": [
    "print(2)\n",
    "print(2.00)\n",
    "print(2+3)\n",
    "print(2+3*3)\n",
    "print((2+3)*3)#bracket first\n",
    "print(10%3)\n",
    "print(10/3)\n",
    "print(10//3)"
   ]
  },
  {
   "cell_type": "code",
   "execution_count": 24,
   "metadata": {},
   "outputs": [
    {
     "name": "stdout",
     "output_type": "stream",
     "text": [
      "5My favorite number\n"
     ]
    }
   ],
   "source": [
    "my_num=5\n",
    "print(str(my_num)+\"My favorite number\")"
   ]
  },
  {
   "cell_type": "code",
   "execution_count": 31,
   "metadata": {},
   "outputs": [
    {
     "name": "stdout",
     "output_type": "stream",
     "text": [
      "5\n",
      "59049\n",
      "9\n",
      "5\n",
      "6\n"
     ]
    }
   ],
   "source": [
    "my_num=-5\n",
    "print(abs(my_num))\n",
    "print(pow(9,5))\n",
    "print(max(9,5))\n",
    "print(min(9,5))\n",
    "print(round(5.7))\n"
   ]
  },
  {
   "cell_type": "code",
   "execution_count": 35,
   "metadata": {},
   "outputs": [
    {
     "name": "stdout",
     "output_type": "stream",
     "text": [
      "6.0\n"
     ]
    }
   ],
   "source": [
    "from  math import sqrt\n",
    "print(sqrt(36))"
   ]
  },
  {
   "cell_type": "code",
   "execution_count": 1,
   "metadata": {},
   "outputs": [
    {
     "name": "stderr",
     "output_type": "stream",
     "text": [
      "C:\\Users\\IBA iTech\\Anaconda3\\lib\\site-packages\\ipykernel\\parentpoller.py:116: UserWarning: Parent poll failed.  If the frontend dies,\n",
      "                the kernel may be left running.  Please let us know\n",
      "                about your system (bitness, Python, etc.) at\n",
      "                ipython-dev@scipy.org\n",
      "  ipython-dev@scipy.org\"\"\")\n"
     ]
    },
    {
     "name": "stdout",
     "output_type": "stream",
     "text": [
      "enter a nameMuhammad Farooq\n",
      "enter age19\n",
      "My name isMuhammad Farooq\n",
      " i am 19years old\n"
     ]
    }
   ],
   "source": [
    "my_name=input(\"enter a name\")\n",
    "age=input(\"enter age\")\n",
    "print(\"My name is\"+my_name+\"\\n i am \"+age+\"years old\")"
   ]
  },
  {
   "cell_type": "code",
   "execution_count": 6,
   "metadata": {},
   "outputs": [
    {
     "name": "stdout",
     "output_type": "stream",
     "text": [
      "enter number 1 22\n",
      "enter number 2 22\n",
      "44\n"
     ]
    }
   ],
   "source": [
    "num1=int(input(\"enter number 1\"))#always use the integer command for numeric calculations\n",
    "num2=int(input(\"enter number 2\"))\n",
    "num=num1+num2\n",
    "print(num)"
   ]
  },
  {
   "cell_type": "code",
   "execution_count": null,
   "metadata": {},
   "outputs": [],
   "source": []
  }
 ],
 "metadata": {
  "kernelspec": {
   "display_name": "Python 3",
   "language": "python",
   "name": "python3"
  },
  "language_info": {
   "codemirror_mode": {
    "name": "ipython",
    "version": 3
   },
   "file_extension": ".py",
   "mimetype": "text/x-python",
   "name": "python",
   "nbconvert_exporter": "python",
   "pygments_lexer": "ipython3",
   "version": "3.7.0"
  }
 },
 "nbformat": 4,
 "nbformat_minor": 2
}
