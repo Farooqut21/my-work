{
 "cells": [
  {
   "cell_type": "code",
   "execution_count": 3,
   "metadata": {},
   "outputs": [],
   "source": [
    "# lab 3 \n",
    "#muhammad Farooq\n",
    "#021 cs 18b section b"
   ]
  },
  {
   "cell_type": "code",
   "execution_count": 4,
   "metadata": {},
   "outputs": [
    {
     "name": "stdout",
     "output_type": "stream",
     "text": [
      "sum is: 32\n",
      "difference is -12\n",
      "product is 220\n",
      "division is 0.45454545454545453\n",
      "integer division is 0\n",
      "raised to power is 10000000000000000000000\n",
      "remainder is 10\n"
     ]
    }
   ],
   "source": [
    "# Math operators\n",
    "# taking two values\n",
    "a=10\n",
    "b=22\n",
    "#using sum operator\n",
    "print(\"sum is:\",a+b)\n",
    "#using subtract operator\n",
    "a=10\n",
    "b=22\n",
    "print(\"difference is\",a-b)\n",
    "#using multiplation operator\n",
    "print(\"product is\",a*b)\n",
    "#using division operator\n",
    "print(\"division is\",a/b)\n",
    "#using integer division\n",
    "print(\"integer division is\",a//b)\n",
    "#using power operator\n",
    "print(\"raised to power is\",a**b)\n",
    "#using modulo operator\n",
    "print(\"remainder is\",a%b)\n",
    "\n"
   ]
  },
  {
   "cell_type": "code",
   "execution_count": 6,
   "metadata": {},
   "outputs": [
    {
     "name": "stdout",
     "output_type": "stream",
     "text": [
      "sum is 8\n",
      "difference is   2\n",
      "product is 15\n",
      "division is 1.6666666666666667\n",
      "integer division is 1\n",
      "remainder is 2\n",
      "raised to the power 125\n",
      "AND value is 1\n",
      "OR value is 7\n",
      "carrot value is 6\n",
      "right shift is 0\n",
      "left shift is 40\n"
     ]
    }
   ],
   "source": [
    "#program Q2 write a program to use assignment operators\n",
    "x=5\n",
    "#using sum operator\n",
    "x+=3\n",
    "print(\"sum is\",x)\n",
    "#using subtract operator\n",
    "x=5\n",
    "x-=3\n",
    "print(\"difference is  \",x)\n",
    "#using multipication operator\n",
    "x=5\n",
    "x*=3\n",
    "print(\"product is\",x)\n",
    "#using divsion operator \n",
    "x=5\n",
    "x/=3\n",
    "print(\"division is\",x)\n",
    "#using integer divison operator\n",
    "x=5\n",
    "x//=3\n",
    "print(\"integer division is\",x)\n",
    "#using modulo operator\n",
    "x=5\n",
    "x%=3\n",
    "print(\"remainder is\",x)\n",
    "#using power operator\n",
    "x=5\n",
    "x**=3\n",
    "print(\"raised to the power\",x)\n",
    "#using AND operator\n",
    "x=5\n",
    "x&=3\n",
    "print(\"AND value is\",x)\n",
    "#using OR operator\n",
    "x=5\n",
    "x|=3\n",
    "print(\"OR value is\",x)\n",
    "#using carrot operator\n",
    "x=5\n",
    "x^=3\n",
    "print(\"carrot value is\",x)\n",
    "#using right shift\n",
    "x=5\n",
    "x>>=3\n",
    "print(\"right shift is\",x)\n",
    "#using left shift\n",
    "x=5\n",
    "x<<=3\n",
    "print(\"left shift is\",x)\n"
   ]
  },
  {
   "cell_type": "code",
   "execution_count": 8,
   "metadata": {},
   "outputs": [
    {
     "name": "stdout",
     "output_type": "stream",
     "text": [
      "x is equal to y False\n",
      "x is not equal to y True\n",
      "x is greater than y True\n",
      "x is less than y False\n",
      "x is greater than or equal to y True\n",
      "x is less than or equal to y False\n"
     ]
    }
   ],
   "source": [
    "#Q3 write a program to perform compaision\n",
    "x=20\n",
    "y=15\n",
    "print(\"x is equal to y\",x==y)\n",
    "print(\"x is not equal to y\",x!=y)\n",
    "print(\"x is greater than y\",x>y)\n",
    "print(\"x is less than y\",x<y)\n",
    "print(\"x is greater than or equal to y\",x>=y)\n",
    "print(\"x is less than or equal to y\",x<=y)"
   ]
  },
  {
   "cell_type": "code",
   "execution_count": 12,
   "metadata": {},
   "outputs": [
    {
     "name": "stdout",
     "output_type": "stream",
     "text": [
      "True\n",
      "True\n",
      "False\n"
     ]
    }
   ],
   "source": [
    "#Q4 write a program to perform logical operators.\n",
    "x=15 \n",
    "print(x > 13 and x < 20)\n",
    "x=25\n",
    "print(x > 23 or x < 24)\n",
    "x=35\n",
    "print(not(x > 33 and x < 40))"
   ]
  },
  {
   "cell_type": "code",
   "execution_count": 13,
   "metadata": {},
   "outputs": [
    {
     "name": "stdout",
     "output_type": "stream",
     "text": [
      "True\n",
      "False\n",
      "True\n"
     ]
    }
   ],
   "source": [
    "#Q5 Write a program to perform identity operator.\n",
    "x=[\"ahmed\",\"bashir\"]\n",
    "y=[\"ahmed\",\"bashir\"]\n",
    "z=x\n",
    "print(x is z)\n",
    "print (x is y)\n",
    "print(x==y)\n"
   ]
  },
  {
   "cell_type": "code",
   "execution_count": 20,
   "metadata": {},
   "outputs": [
    {
     "name": "stdout",
     "output_type": "stream",
     "text": [
      "False\n",
      "True\n",
      "False\n",
      "False\n"
     ]
    }
   ],
   "source": [
    "#Q6 Performing is not identity operation.\n",
    "x=[\"ahmed\",\"bashir\"]\n",
    "y=[\"ahmed\",\"bashir\"]\n",
    "z=x\n",
    "print(x is not z)\n",
    "print(x is not y)\n",
    "print(x < y) \n",
    "print(x > y)"
   ]
  },
  {
   "cell_type": "code",
   "execution_count": 21,
   "metadata": {},
   "outputs": [
    {
     "name": "stdout",
     "output_type": "stream",
     "text": [
      "True\n"
     ]
    }
   ],
   "source": [
    "#Q7 performing  \"in\" membership operation\n",
    "x=[\"bat\",\"ball\",\"tape\",\"wicket\"]\n",
    "print(\"bat\"in x)"
   ]
  },
  {
   "cell_type": "code",
   "execution_count": 22,
   "metadata": {},
   "outputs": [
    {
     "name": "stdout",
     "output_type": "stream",
     "text": [
      "False\n"
     ]
    }
   ],
   "source": [
    "#Q8 performing \"not in\" membership operation\n",
    "x=[\"bat\",\"ball\",\"tape\",\"wicket\"]\n",
    "print(\"farooq\"in x)"
   ]
  },
  {
   "cell_type": "code",
   "execution_count": 25,
   "metadata": {},
   "outputs": [
    {
     "name": "stdout",
     "output_type": "stream",
     "text": [
      "give me a velocity to fire at (in m/s)70\n",
      "give me an angle to fire at45\n",
      "give me how far away you are from the structure10\n",
      "give me the height of the structure20\n",
      "1.4560219778561039\n"
     ]
    }
   ],
   "source": [
    "#Q9 you are planning to throw a small bird at a distance d, with time t, and height h to some structure. write a code in which you will use the physical quantities such as initial velocity,final velocity , angle in radians,gravity,height,sling shot etc\n",
    "import math\n",
    "#user inputs\n",
    "velocity=float(input(\"give me a velocity to fire at (in m/s)\"))\n",
    "angle=float(input(\"give me an angle to fire at\"))\n",
    "distance=float(input(\"give me how far away you are from the structure\"))\n",
    "height=float(input('give me the height of the structure'))\n",
    "slingshot=5 #height of slingshot in meters\n",
    "gravity=9.8 #earth gravity\n",
    "#converting angles to radians\n",
    "angleRad=math.radians(angle)\n",
    "#computing our x and y coordinate\n",
    "x=math.cos(angleRad)\n",
    "y=math.sin(angleRad)\n",
    "#Calculations\n",
    "time=distance/(velocity*x)\n",
    "vx=x\n",
    "vy=y+(-9.8*time)\n",
    "finalVelocity=math.sqrt((vx**2)+(vy**2))\n",
    "print(finalVelocity)"
   ]
  },
  {
   "cell_type": "code",
   "execution_count": 31,
   "metadata": {},
   "outputs": [
    {
     "name": "stdout",
     "output_type": "stream",
     "text": [
      " velocity for 0.5m radius 5.0\n",
      "velocity for 1m radius 10\n",
      "velocity for 2m radius 20\n",
      "the magnitude velocity is 22.9128784747792\n"
     ]
    }
   ],
   "source": [
    "#PROGRAMMING EXERCISE\n",
    "#Q1 . A ball at the end of a string is revolving uniformly in a horizontal circle of radius 2 meters at constant angular speed 10 rad/s. Determine the magnitude of the linear velocity of a point located:\n",
    "#(a) 0.5 meters from the center\n",
    "import math\n",
    "r=0.5\n",
    "w=10\n",
    "vx=r*w\n",
    "print(\" velocity for 0.5m radius\",vx)\n",
    "#(b) 1 meter from the center\n",
    "r=1\n",
    "w=10\n",
    "vy=r*w\n",
    "print(\"velocity for 1m radius\",vy)\n",
    "#(c)2 meter from center\n",
    "r=2\n",
    "w=10\n",
    "vz=r*w\n",
    "print(\"velocity for 2m radius\",vz)\n",
    "#for magnitude\n",
    "v=math.sqrt((vx)**2+(vy)**2+(vz)**2)\n",
    "print(\"the magnitude velocity is\",v)"
   ]
  },
  {
   "cell_type": "code",
   "execution_count": 36,
   "metadata": {},
   "outputs": [
    {
     "name": "stdout",
     "output_type": "stream",
     "text": [
      "radius = 0.05 m\n",
      "velocity for 0.5cm 26.165 m/s\n",
      "radis= 0.1 m\n",
      "velocity for 0.5cm 52.33 m/s\n",
      "the magitude of linar velocity is 58.50671863128199 m/s\n"
     ]
    }
   ],
   "source": [
    "#Q2 The blades in a blender rotate at a rate of 5000 rpm. Determine the magnitude of the linear velocity: \n",
    "#(a) a point located 5 cm from the center \n",
    "import math\n",
    "#The angular speed (ω) = 5000 revolutions / 60 seconds = 83.3 revolutions / second = (83.3)(6.28 radian) / second = 523.3 radians / second \n",
    "w= 523.3 #radian/second\n",
    "r=5/100\n",
    "print(\"radius =\",r,'m')\n",
    "vx=r*w\n",
    "print(\"velocity for 0.5cm\",vx,\"m/s\")\n",
    "w= 523.3 #radian/second\n",
    "r=10/100\n",
    "print(\"radis=\",r,\"m\")\n",
    "vy=r*w\n",
    "print(\"velocity for 0.5cm\",vy,\"m/s\")\n",
    "#magnitude for the linear velocity\n",
    "v=math.sqrt((vx)**2+(vy)**2)\n",
    "print(\"the magitude of linar velocity is\",v,\"m/s\")\n"
   ]
  },
  {
   "cell_type": "code",
   "execution_count": 38,
   "metadata": {},
   "outputs": [
    {
     "name": "stdout",
     "output_type": "stream",
     "text": [
      "the angular velocity is  33.333333333333336 radian\\second\n"
     ]
    }
   ],
   "source": [
    "#Q3 . A point on the edge of a wheel 30 cm in radius, around a circle at constant speed 10 meters/second. What is the magnitude of the angular velocity? \n",
    "#Known: Radius (r) = 30 cm = 0.3 meters, The linear velocity (v) = 10 meters/second \n",
    "#formula for anglular velocity w=v/r\n",
    "r=0.3\n",
    "v=10\n",
    "w=v/r\n",
    "print(\"the angular velocity is \",w,\"radian\\second\")\n"
   ]
  },
  {
   "cell_type": "code",
   "execution_count": 40,
   "metadata": {},
   "outputs": [
    {
     "name": "stdout",
     "output_type": "stream",
     "text": [
      "the angular speed is 40.0 radian\\second\n"
     ]
    }
   ],
   "source": [
    "#Q4 A car with tires 50 cm in diameter travels 10 meters in 1 second. What is the angular speed? \n",
    "#Radius (r) = 0.25 meter, The linear speed of a point on the edge of tires (v) = 10 meters/second \n",
    "r=0.25\n",
    "v=10\n",
    "w=v/r\n",
    "print(\"the angular speed is\",w,\"radian\\second\")\n"
   ]
  },
  {
   "cell_type": "code",
   "execution_count": 42,
   "metadata": {},
   "outputs": [
    {
     "name": "stdout",
     "output_type": "stream",
     "text": [
      "the distance is 25.120000000000005 m\n"
     ]
    }
   ],
   "source": [
    "#Q5  The angular speed of wheel 20 cm in radians is 120 rpm. What is the distance if the car travels in 10 seconds.\n",
    "# Radius (r) = 20 cm = 0.2 meters The angular speed = 120 rev / 60 seconds = 2 rev / second = (2)(6.28) radians / second = 12.56 radians / second \n",
    "r=0.2\n",
    "w=12.56\n",
    "t=10\n",
    "d=r*w*t\n",
    "print(\"the distance is\",d,\"m\")"
   ]
  },
  {
   "cell_type": "code",
   "execution_count": 44,
   "metadata": {},
   "outputs": [
    {
     "name": "stdout",
     "output_type": "stream",
     "text": [
      "40 m\n"
     ]
    }
   ],
   "source": [
    "#Q6 A car is running at a velocity of 50 miles per hour and the driver accelerates the car by 10 miles/hr2. How far the car travels from this point in the next 2 hours, if the acceleration is constant. \n",
    "u=50 #miles per hour\n",
    "a=10 #miles per hour\n",
    "t=2 #hours\n",
    "d=a*t**2\n",
    "print(d,\"m\")"
   ]
  },
  {
   "cell_type": "code",
   "execution_count": 65,
   "metadata": {},
   "outputs": [
    {
     "ename": "NameError",
     "evalue": "name 'sqrt' is not defined",
     "output_type": "error",
     "traceback": [
      "\u001b[1;31m---------------------------------------------------------------------------\u001b[0m",
      "\u001b[1;31mNameError\u001b[0m                                 Traceback (most recent call last)",
      "\u001b[1;32m<ipython-input-65-fe9a9cb05e00>\u001b[0m in \u001b[0;36m<module>\u001b[1;34m()\u001b[0m\n\u001b[0;32m      5\u001b[0m \u001b[0mh\u001b[0m\u001b[1;33m=\u001b[0m\u001b[1;36m100\u001b[0m \u001b[1;31m#feet\u001b[0m\u001b[1;33m\u001b[0m\u001b[0m\n\u001b[0;32m      6\u001b[0m \u001b[0ma\u001b[0m\u001b[1;33m=\u001b[0m\u001b[1;36m32\u001b[0m \u001b[1;31m#ft/s**2\u001b[0m\u001b[1;33m\u001b[0m\u001b[0m\n\u001b[1;32m----> 7\u001b[1;33m \u001b[0mv\u001b[0m\u001b[1;33m=\u001b[0m\u001b[0msqrt\u001b[0m\u001b[1;33m.\u001b[0m\u001b[0mmath\u001b[0m\u001b[1;33m(\u001b[0m\u001b[1;33m(\u001b[0m\u001b[1;36m2\u001b[0m\u001b[1;33m*\u001b[0m\u001b[0ma\u001b[0m\u001b[1;33m*\u001b[0m\u001b[0mh\u001b[0m\u001b[1;33m-\u001b[0m\u001b[0mu\u001b[0m\u001b[1;33m**\u001b[0m\u001b[1;36m2\u001b[0m\u001b[1;33m)\u001b[0m\u001b[1;33m)\u001b[0m\u001b[1;33m\u001b[0m\u001b[0m\n\u001b[0m\u001b[0;32m      8\u001b[0m \u001b[1;33m\u001b[0m\u001b[0m\n",
      "\u001b[1;31mNameError\u001b[0m: name 'sqrt' is not defined"
     ]
    }
   ],
   "source": [
    "#Q7  A Stone is dropped freely from a height of 100 feet. With what velocity will it hit the ground? (Neglect the air resistance and assume the acceleration due to gravity is 32ft/s2). \n",
    "#formula:v**2-u**2=2as\n",
    "import math\n",
    "u=100 #feet\n",
    "h=100 #feet\n",
    "a=32 #ft/s**2\n",
    "v=sqrt.math((2*a*h-u**2))\n",
    "\n",
    "\n"
   ]
  },
  {
   "cell_type": "code",
   "execution_count": null,
   "metadata": {},
   "outputs": [],
   "source": []
  }
 ],
 "metadata": {
  "kernelspec": {
   "display_name": "Python 3",
   "language": "python",
   "name": "python3"
  },
  "language_info": {
   "codemirror_mode": {
    "name": "ipython",
    "version": 3
   },
   "file_extension": ".py",
   "mimetype": "text/x-python",
   "name": "python",
   "nbconvert_exporter": "python",
   "pygments_lexer": "ipython3",
   "version": "3.6.5"
  }
 },
 "nbformat": 4,
 "nbformat_minor": 2
}
